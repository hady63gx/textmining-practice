{
 "cells": [
  {
   "cell_type": "code",
   "execution_count": null,
   "id": "6fe0d41f-ea1d-49b4-a773-61f1a1d3b8fa",
   "metadata": {},
   "outputs": [],
   "source": []
  },
  {
   "cell_type": "code",
   "execution_count": null,
   "id": "031eec75-5332-4a1f-9a90-0602ea653e60",
   "metadata": {},
   "outputs": [],
   "source": [
    "!pip install -q"
   ]
  },
  {
   "cell_type": "code",
   "execution_count": null,
   "id": "00e675e8-33c2-4907-9889-a6ecfd866cf4",
   "metadata": {},
   "outputs": [],
   "source": []
  },
  {
   "cell_type": "code",
   "execution_count": null,
   "id": "c55bf1ba-fcc7-47b3-8e17-b411691199a8",
   "metadata": {},
   "outputs": [],
   "source": [
    "#下載 open mutilingual wordnet\n",
    "nltk.download('omw-1.4')\n",
    "nltk.download('omw')"
   ]
  },
  {
   "cell_type": "code",
   "execution_count": null,
   "id": "5f307abb-dd7a-4885-9868-b08662cc02ce",
   "metadata": {},
   "outputs": [],
   "source": [
    "!ls -lah /home/jovyan/nltk_data/corpora"
   ]
  },
  {
   "cell_type": "code",
   "execution_count": null,
   "id": "dd95e3ae-0657-491f-996b-131a94e64dfe",
   "metadata": {},
   "outputs": [],
   "source": [
    "from nltk "
   ]
  },
  {
   "cell_type": "code",
   "execution_count": null,
   "id": "a1566d1b-a2b4-4f25-8e42-c3d8adb23d91",
   "metadata": {},
   "outputs": [],
   "source": []
  }
 ],
 "metadata": {
  "kernelspec": {
   "display_name": "Python 3 (ipykernel)",
   "language": "python",
   "name": "python3"
  },
  "language_info": {
   "codemirror_mode": {
    "name": "ipython",
    "version": 3
   },
   "file_extension": ".py",
   "mimetype": "text/x-python",
   "name": "python",
   "nbconvert_exporter": "python",
   "pygments_lexer": "ipython3",
   "version": "3.9.12"
  }
 },
 "nbformat": 4,
 "nbformat_minor": 5
}
